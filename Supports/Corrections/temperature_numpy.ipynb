{
 "cells": [
  {
   "cell_type": "code",
   "execution_count": 1,
   "id": "6036cb85-0a4f-4c4e-86f0-f3b517a25fab",
   "metadata": {},
   "outputs": [],
   "source": [
    "import numpy as np"
   ]
  },
  {
   "cell_type": "code",
   "execution_count": 48,
   "id": "7220315e-7788-473a-8968-e804ad0d970d",
   "metadata": {},
   "outputs": [],
   "source": [
    "january = np.array([-2,  5, -5,  6, -2,  0,  6,  2,  8,  0,  6, -1,  3,  3,  7,  0, -5,\n",
    "        7,  4,  7,  8, -1,  5, -2,  3, -3, -2,  7,  8,  4,  2])"
   ]
  },
  {
   "cell_type": "code",
   "execution_count": 49,
   "id": "731bd235-538a-46b8-a373-cd77fcec90c9",
   "metadata": {},
   "outputs": [],
   "source": [
    "mask = january > 0 "
   ]
  },
  {
   "cell_type": "code",
   "execution_count": 50,
   "id": "fece15a5-a056-43ec-9874-d2a816b812a6",
   "metadata": {},
   "outputs": [
    {
     "data": {
      "text/plain": [
       "array([5, 6, 6, 2, 8, 6, 3, 3, 7, 7, 4, 7, 8, 5, 3, 7, 8, 4, 2])"
      ]
     },
     "execution_count": 50,
     "metadata": {},
     "output_type": "execute_result"
    }
   ],
   "source": [
    "january[mask]"
   ]
  },
  {
   "cell_type": "code",
   "execution_count": 51,
   "id": "2532cdf4-b937-4d42-959b-82c2dcb0347c",
   "metadata": {},
   "outputs": [
    {
     "data": {
      "text/plain": [
       "array([-2,  5, -5,  6, -2,  0,  6,  2,  8,  0,  6, -1,  3,  3,  7,  0, -5,\n",
       "        7,  4,  7,  8, -1,  5, -2,  3, -3, -2,  7,  8,  4,  2])"
      ]
     },
     "execution_count": 51,
     "metadata": {},
     "output_type": "execute_result"
    }
   ],
   "source": [
    "january"
   ]
  },
  {
   "cell_type": "code",
   "execution_count": 52,
   "id": "a630bb48-8b34-481e-8c23-2a89b655f0e5",
   "metadata": {},
   "outputs": [
    {
     "data": {
      "text/plain": [
       "array([5, 6, 0, 6, 2, 8, 0, 6, 3, 3, 7, 0, 7, 4, 7, 8, 5, 3, 7, 8, 4, 2])"
      ]
     },
     "execution_count": 52,
     "metadata": {},
     "output_type": "execute_result"
    }
   ],
   "source": [
    "january[january >= 0 ]"
   ]
  },
  {
   "cell_type": "code",
   "execution_count": 53,
   "id": "1e91e18d-80d3-48de-978e-3dcb2df4d7b0",
   "metadata": {},
   "outputs": [],
   "source": [
    "# Comparez les températures supérieures et inférieures à 0."
   ]
  },
  {
   "cell_type": "code",
   "execution_count": 54,
   "id": "6e699e1d-6e9c-40b0-90ee-ceeb842491ea",
   "metadata": {},
   "outputs": [
    {
     "data": {
      "text/plain": [
       "array([False,  True, False,  True, False,  True,  True,  True,  True,\n",
       "        True,  True, False,  True,  True,  True,  True, False,  True,\n",
       "        True,  True,  True, False,  True, False,  True, False, False,\n",
       "        True,  True,  True,  True])"
      ]
     },
     "execution_count": 54,
     "metadata": {},
     "output_type": "execute_result"
    }
   ],
   "source": [
    "january >= 0 "
   ]
  },
  {
   "cell_type": "code",
   "execution_count": 55,
   "id": "dff25ae1-2f16-4699-b6db-82725beab0ce",
   "metadata": {},
   "outputs": [
    {
     "data": {
      "text/plain": [
       "array([ True, False,  True, False,  True, False, False, False, False,\n",
       "       False, False,  True, False, False, False, False,  True, False,\n",
       "       False, False, False,  True, False,  True, False,  True,  True,\n",
       "       False, False, False, False])"
      ]
     },
     "execution_count": 55,
     "metadata": {},
     "output_type": "execute_result"
    }
   ],
   "source": [
    "january < 0 "
   ]
  },
  {
   "cell_type": "code",
   "execution_count": 56,
   "id": "a66d4ee3-9d7f-4d27-b5e2-db7f926b46a2",
   "metadata": {},
   "outputs": [
    {
     "data": {
      "text/plain": [
       "22"
      ]
     },
     "execution_count": 56,
     "metadata": {},
     "output_type": "execute_result"
    }
   ],
   "source": [
    "# on fait la somme sur un tableau de True et False Numpy compte le nombre de True\n",
    "np.sum( january >= 0 )"
   ]
  },
  {
   "cell_type": "code",
   "execution_count": 57,
   "id": "51bb0c6a-daf7-40fe-bdf3-bfda523da8b3",
   "metadata": {},
   "outputs": [
    {
     "data": {
      "text/plain": [
       "9"
      ]
     },
     "execution_count": 57,
     "metadata": {},
     "output_type": "execute_result"
    }
   ],
   "source": [
    "np.sum( january < 0  )"
   ]
  },
  {
   "cell_type": "code",
   "execution_count": 58,
   "id": "d608b469-a6b8-4dc8-a46e-039edabb8a60",
   "metadata": {},
   "outputs": [
    {
     "data": {
      "text/plain": [
       "True"
      ]
     },
     "execution_count": 58,
     "metadata": {},
     "output_type": "execute_result"
    }
   ],
   "source": [
    "# \n",
    "np.sum( january >= 0 ) > np.sum( january < 0  )"
   ]
  },
  {
   "cell_type": "code",
   "execution_count": 59,
   "id": "50f862cd-37ca-4626-b01e-51764f2199c9",
   "metadata": {},
   "outputs": [
    {
     "data": {
      "text/plain": [
       "22"
      ]
     },
     "execution_count": 59,
     "metadata": {},
     "output_type": "execute_result"
    }
   ],
   "source": [
    "january[january >= 0 ].size"
   ]
  },
  {
   "cell_type": "code",
   "execution_count": 60,
   "id": "313076b7-efa7-4e92-a5c3-f4b187c1c61b",
   "metadata": {},
   "outputs": [
    {
     "data": {
      "text/plain": [
       "70.97"
      ]
     },
     "execution_count": 60,
     "metadata": {},
     "output_type": "execute_result"
    }
   ],
   "source": [
    "# Donnez le pourcentage des températures positives sur le mois.\n",
    "np.round ( ( np.sum( january >= 0 ) / january.size ) * 100, 2 )"
   ]
  },
  {
   "cell_type": "code",
   "execution_count": 61,
   "id": "5df10fc2-c1ee-438f-bd7a-d84ed67cb4de",
   "metadata": {},
   "outputs": [],
   "source": [
    "# Créez un tableau days pour les jours du mois et donnez les jours pour lesquels la température était supérieure à 0.\n",
    "days =  np.arange(1, 32 )"
   ]
  },
  {
   "cell_type": "code",
   "execution_count": 62,
   "id": "a424d664-e516-45c4-a102-a4c9d74e3d47",
   "metadata": {},
   "outputs": [
    {
     "data": {
      "text/plain": [
       "array([ 1,  2,  3,  4,  5,  6,  7,  8,  9, 10, 11, 12, 13, 14, 15, 16, 17,\n",
       "       18, 19, 20, 21, 22, 23, 24, 25, 26, 27, 28, 29, 30, 31])"
      ]
     },
     "execution_count": 62,
     "metadata": {},
     "output_type": "execute_result"
    }
   ],
   "source": [
    "days"
   ]
  },
  {
   "cell_type": "code",
   "execution_count": 63,
   "id": "32e7fd7f-b6e7-4868-85e9-ebdbdfe6b0ee",
   "metadata": {},
   "outputs": [
    {
     "data": {
      "text/plain": [
       "array([ 2,  4,  6,  7,  8,  9, 10, 11, 13, 14, 15, 16, 18, 19, 20, 21, 23,\n",
       "       25, 28, 29, 30, 31])"
      ]
     },
     "execution_count": 63,
     "metadata": {},
     "output_type": "execute_result"
    }
   ],
   "source": [
    "# Créez un tableau days pour les jours du mois et donnez les jours pour lesquels la température était supérieure à 0.\n",
    "days[january >= 0 ]"
   ]
  },
  {
   "cell_type": "code",
   "execution_count": 64,
   "id": "c658c57c-7c41-4c4c-b250-d901066d457a",
   "metadata": {},
   "outputs": [
    {
     "data": {
      "text/plain": [
       "array([ 6,  8, 10, 13, 14, 16, 19, 25, 30, 31])"
      ]
     },
     "execution_count": 64,
     "metadata": {},
     "output_type": "execute_result"
    }
   ],
   "source": [
    "days[ (january >= 0 ) & (january < 5 )]"
   ]
  },
  {
   "cell_type": "code",
   "execution_count": 65,
   "id": "9e293094-0e65-49bb-ab6b-c2f2c4ee5ac5",
   "metadata": {},
   "outputs": [
    {
     "data": {
      "text/plain": [
       "array([False, False, False, False, False,  True, False,  True, False,\n",
       "        True, False, False,  True,  True, False,  True, False, False,\n",
       "        True, False, False, False, False, False,  True, False, False,\n",
       "       False, False,  True,  True])"
      ]
     },
     "execution_count": 65,
     "metadata": {},
     "output_type": "execute_result"
    }
   ],
   "source": [
    "(january >= 0 ) & (january < 5 )"
   ]
  },
  {
   "cell_type": "code",
   "execution_count": 66,
   "id": "82539173-8f70-47d4-9a6f-5dc9faace5fa",
   "metadata": {},
   "outputs": [
    {
     "data": {
      "text/plain": [
       "array([ True, False,  True])"
      ]
     },
     "execution_count": 66,
     "metadata": {},
     "output_type": "execute_result"
    }
   ],
   "source": [
    "# Donnez toutes les températures supérieures à 0 à partir du dixième jour du mois.\n",
    "\n",
    "np.array([True, False, True ]) & np.array([True, True, True ])"
   ]
  },
  {
   "cell_type": "code",
   "execution_count": 67,
   "id": "93d2ff5c-916a-4d4f-9d74-66b3d204d677",
   "metadata": {},
   "outputs": [
    {
     "data": {
      "text/plain": [
       "array([11, 13, 14, 15, 18, 19, 20, 21, 23, 25, 28, 29, 30, 31])"
      ]
     },
     "execution_count": 67,
     "metadata": {},
     "output_type": "execute_result"
    }
   ],
   "source": [
    "mask = ( days >= 10 ) & ( january > 0 )\n",
    "\n",
    "days[mask]"
   ]
  },
  {
   "cell_type": "code",
   "execution_count": 68,
   "id": "7dd92840-b986-49d0-bb04-ebb71e0e6783",
   "metadata": {},
   "outputs": [
    {
     "name": "stdout",
     "output_type": "stream",
     "text": [
      "3.26\n"
     ]
    }
   ],
   "source": [
    "# Remplacez maintenant les températures négatives par la moyenne des températures positives\n",
    "\n",
    "average = round( np.sum ( january[january > 0] ) / january.size , 2 )\n",
    "\n",
    "print(average)"
   ]
  },
  {
   "cell_type": "code",
   "execution_count": 71,
   "id": "a5cb8c89-6460-44fc-a938-fba77628524b",
   "metadata": {},
   "outputs": [
    {
     "name": "stdout",
     "output_type": "stream",
     "text": [
      "[3.26 5.   3.26 6.   3.26 0.   6.   2.   8.   0.   6.   3.26 3.   3.\n",
      " 7.   0.   3.26 7.   4.   7.   8.   3.26 5.   3.26 3.   3.26 3.26 7.\n",
      " 8.   4.   2.  ]\n"
     ]
    }
   ],
   "source": [
    "january = january.astype(float)\n",
    "\n",
    "january[january < 0 ] = average\n",
    "\n",
    "print(january)"
   ]
  },
  {
   "cell_type": "code",
   "execution_count": 83,
   "id": "924fa1ea-76a7-4dda-954f-eb7bed6db615",
   "metadata": {},
   "outputs": [],
   "source": [
    "# permet de créer un jeu de données aléatoires fixe \n",
    "np.random.seed(42)\n",
    "notes = np.random.randint(1, 21, size = 50 )"
   ]
  },
  {
   "cell_type": "code",
   "execution_count": 84,
   "id": "c8d0d79b-a5cc-49a4-9d71-33d2d9eaf131",
   "metadata": {},
   "outputs": [
    {
     "data": {
      "text/plain": [
       "array([ 7, 20, 15, 11,  8,  7, 19, 11, 11,  4,  8,  3,  2, 12,  6,  2,  1,\n",
       "       12, 12, 17, 10, 16, 15, 15, 19, 12, 20,  3,  5, 19,  7,  9,  7, 18,\n",
       "        4, 14, 18,  9,  2, 20, 15,  7, 12,  8, 15,  3, 14, 17,  4, 18])"
      ]
     },
     "execution_count": 84,
     "metadata": {},
     "output_type": "execute_result"
    }
   ],
   "source": [
    "notes"
   ]
  },
  {
   "cell_type": "markdown",
   "id": "3e2715a0-be5d-4f88-b6fc-eedb18b2d01e",
   "metadata": {},
   "source": [
    "### Dire combien de notes sont supérieurs à 10\n",
    "### Supérieur à 10 et pair \n",
    "### Dire combien de notes sont supérieur à la moyenne\n",
    "### Ajoutez .5 aux notes comprises entre 10 et 11 de manière large à l'aide d'un mask"
   ]
  },
  {
   "cell_type": "code",
   "execution_count": 85,
   "id": "b8caf526-c1ab-4f12-8b8d-a1448659e8f2",
   "metadata": {},
   "outputs": [
    {
     "data": {
      "text/plain": [
       "array([20, 15, 11, 19, 11, 11, 12, 12, 12, 17, 16, 15, 15, 19, 12, 20, 19,\n",
       "       18, 14, 18, 20, 15, 12, 15, 14, 17, 18])"
      ]
     },
     "execution_count": 85,
     "metadata": {},
     "output_type": "execute_result"
    }
   ],
   "source": [
    "notes[ notes > 10 ]"
   ]
  },
  {
   "cell_type": "code",
   "execution_count": 89,
   "id": "9f3c198c-978f-490f-82ae-876564445951",
   "metadata": {},
   "outputs": [
    {
     "data": {
      "text/plain": [
       "array([20, 12, 12, 12, 16, 12, 20, 18, 14, 18, 20, 12, 14, 18])"
      ]
     },
     "execution_count": 89,
     "metadata": {},
     "output_type": "execute_result"
    }
   ],
   "source": [
    "notes[ (notes > 10 ) & ( notes % 2 == 0 )]"
   ]
  },
  {
   "cell_type": "code",
   "execution_count": 90,
   "id": "8dadf20e-b78c-4fa7-a26d-2797ec473db6",
   "metadata": {},
   "outputs": [
    {
     "data": {
      "text/plain": [
       "27"
      ]
     },
     "execution_count": 90,
     "metadata": {},
     "output_type": "execute_result"
    }
   ],
   "source": [
    "# dire combien de notes sont supérieur à la moyenne\n",
    "average_note = np.mean(notes)\n",
    "\n",
    "np.sum( notes > average_note )"
   ]
  },
  {
   "cell_type": "code",
   "execution_count": 93,
   "id": "9d553823-521f-4344-97ee-eab3c66fae5e",
   "metadata": {},
   "outputs": [
    {
     "name": "stdout",
     "output_type": "stream",
     "text": [
      "[ 7.  20.  15.  11.5  8.   7.  19.  11.5 11.5  4.   8.   3.   2.  12.\n",
      "  6.   2.   1.  12.  12.  17.  10.5 16.  15.  15.  19.  12.  20.   3.\n",
      "  5.  19.   7.   9.   7.  18.   4.  14.  18.   9.   2.  20.  15.   7.\n",
      " 12.   8.  15.   3.  14.  17.   4.  18. ]\n"
     ]
    }
   ],
   "source": [
    "notes = notes.astype(float)\n",
    "\n",
    "notes[ (notes >= 10) & (notes <= 11 ) ] += .5 \n",
    "\n",
    "print(notes)"
   ]
  },
  {
   "cell_type": "code",
   "execution_count": null,
   "id": "4065bf80-9398-45ae-b82d-23047fbe914a",
   "metadata": {},
   "outputs": [],
   "source": []
  }
 ],
 "metadata": {
  "kernelspec": {
   "display_name": "Python 3 (ipykernel)",
   "language": "python",
   "name": "python3"
  },
  "language_info": {
   "codemirror_mode": {
    "name": "ipython",
    "version": 3
   },
   "file_extension": ".py",
   "mimetype": "text/x-python",
   "name": "python",
   "nbconvert_exporter": "python",
   "pygments_lexer": "ipython3",
   "version": "3.11.9"
  }
 },
 "nbformat": 4,
 "nbformat_minor": 5
}
