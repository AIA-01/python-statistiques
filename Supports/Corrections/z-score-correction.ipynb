{
 "cells": [
  {
   "cell_type": "code",
   "execution_count": 1,
   "id": "e63bc7e6-527c-4332-8c75-54e63a8f79ab",
   "metadata": {},
   "outputs": [],
   "source": [
    "import numpy as np\n",
    "import matplotlib.pyplot as plt"
   ]
  },
  {
   "cell_type": "code",
   "execution_count": 2,
   "id": "15a1fdb0-9e33-4d74-b6ed-4f7311731c51",
   "metadata": {},
   "outputs": [],
   "source": [
    "cats_weights = np.random.normal(loc=4.0, scale = 0.5, size = 5000 )"
   ]
  },
  {
   "cell_type": "code",
   "execution_count": 6,
   "id": "6abb47c7-b7a4-4c86-945e-7f780dca4a21",
   "metadata": {},
   "outputs": [],
   "source": [
    "cats_weights = cats_weights[ (cats_weights) >= 2 & ( cats_weights <= 6 ) ]"
   ]
  },
  {
   "cell_type": "code",
   "execution_count": 8,
   "id": "7d4bba35-1f2d-4316-9cf5-73f9d5881013",
   "metadata": {},
   "outputs": [],
   "source": [
    "cats_weights.sort()"
   ]
  },
  {
   "cell_type": "code",
   "execution_count": 9,
   "id": "be09a7df-f169-4112-8ff4-253abdfe1cc4",
   "metadata": {},
   "outputs": [
    {
     "data": {
      "text/plain": [
       "array([2.22285581, 2.40065521, 2.45069566, ..., 5.65456354, 5.72319015,\n",
       "       6.08669163])"
      ]
     },
     "execution_count": 9,
     "metadata": {},
     "output_type": "execute_result"
    }
   ],
   "source": [
    "cats_weights"
   ]
  },
  {
   "cell_type": "code",
   "execution_count": 10,
   "id": "ad7f0e36-122f-46c1-b925-416c5080beb8",
   "metadata": {},
   "outputs": [],
   "source": [
    "dogs_weights =  np.random.normal(loc=12, scale = 1.5, size = 5000 )"
   ]
  },
  {
   "cell_type": "code",
   "execution_count": 11,
   "id": "2c7d83d7-7754-4305-8b03-3bad658274b2",
   "metadata": {},
   "outputs": [
    {
     "data": {
      "text/plain": [
       "array([14.83565799, 11.87224365, 11.09384625, ...,  9.89784204,\n",
       "       12.2687257 , 13.5225523 ])"
      ]
     },
     "execution_count": 11,
     "metadata": {},
     "output_type": "execute_result"
    }
   ],
   "source": [
    "dogs_weights = dogs_weights[ (dogs_weights >= 8) & ( dogs_weights <= 16 ) ]\n",
    "\n",
    "\n",
    "dogs_weights"
   ]
  },
  {
   "cell_type": "code",
   "execution_count": 19,
   "id": "948e0d42-e438-4153-a12c-97b610c193cf",
   "metadata": {},
   "outputs": [
    {
     "data": {
      "image/png": "[encoded data removed]",
      "text/plain": [
       "<Figure size 1000x600 with 2 Axes>"
      ]
     },
     "metadata": {},
     "output_type": "display_data"
    }
   ],
   "source": [
    "plt.figure(figsize=(10, 6))\n",
    "plt.subplot(1, 2, 1) \n",
    "plt.title(\"Cats\")\n",
    "plt.hist(cats_weights, bins = 30, alpha=0.6, edgecolor='gray', density = True, color='blue' )\n",
    "\n",
    "plt.subplot(1, 2, 2)\n",
    "plt.title(\"Dogs\")\n",
    "plt.hist(dogs_weights, bins = 30, density = True,edgecolor='gray',alpha=0.6, color='orange' )\n",
    "\n",
    "plt.show()"
   ]
  },
  {
   "cell_type": "code",
   "execution_count": 21,
   "id": "24271362-041b-42f1-8cf9-9e4e1164287d",
   "metadata": {},
   "outputs": [
    {
     "name": "stdout",
     "output_type": "stream",
     "text": [
      "moyenne cats : 4.0 écart type : 0.5 \n",
      "moyenne dogs : 12.02 écart type : 1.44 \n"
     ]
    }
   ],
   "source": [
    "# Moyennes et écarts types\n",
    "\n",
    "cats_mean = np.round( np.mean(cats_weights) , 2 )\n",
    "cats_std = np.round( np.std(cats_weights) , 2 )\n",
    "\n",
    "dogs_mean = np.round( np.mean(dogs_weights) , 2 )\n",
    "dogs_std = np.round( np.std(dogs_weights) , 2 )\n",
    "print( f\"moyenne cats : {cats_mean} écart type : {cats_std} \" )\n",
    "print( f\"moyenne dogs : {dogs_mean} écart type : {dogs_std} \" )\n"
   ]
  },
  {
   "cell_type": "code",
   "execution_count": 25,
   "id": "099eb110-540e-40b8-babf-fd7f00cba51f",
   "metadata": {},
   "outputs": [
    {
     "name": "stdout",
     "output_type": "stream",
     "text": [
      "z-score cats : 0.4 \n",
      "z-score dogs : 1.51\n"
     ]
    }
   ],
   "source": [
    "# Comparaison \n",
    "cat_weigth = 4.2 \n",
    "dog_wiegth = 14.2\n",
    "\n",
    "def cat_z_score():\n",
    "    return  np.round( ( cat_weigth - cats_mean  ) / cats_std , 2 )\n",
    "\n",
    "def dog_z_score():\n",
    "    return np.round( ( dog_wiegth - dogs_mean  ) / dogs_std , 2 )\n",
    "\n",
    "# on peut raisonner par rapport au valeurs normées\n",
    "print( f\"z-score cats : {cat_z_score()} \" )\n",
    "print( f\"z-score dogs : {dog_z_score()}\" )"
   ]
  },
  {
   "cell_type": "code",
   "execution_count": 27,
   "id": "63d79c3e-a9d3-4d31-b413-9a65f0cd1b12",
   "metadata": {},
   "outputs": [
    {
     "name": "stdout",
     "output_type": "stream",
     "text": [
      "Le chien est plus éloigné de la moyenne de son groupe que le chat\n"
     ]
    }
   ],
   "source": [
    "if cat_z_score() > dog_z_score():\n",
    "    print(\"Le chat est plus éloigné de la moyenne de son groupe que le chient\")\n",
    "else:\n",
    "    print(\"Le chien est plus éloigné de la moyenne de son groupe que le chat\")"
   ]
  },
  {
   "cell_type": "code",
   "execution_count": 28,
   "id": "dcf78765-1a47-4a8e-92cd-13dee9b7d1fc",
   "metadata": {},
   "outputs": [
    {
     "name": "stdout",
     "output_type": "stream",
     "text": [
      "Le chien est plus éloigné de la moyenne de son groupe que le chat\n"
     ]
    }
   ],
   "source": [
    "cat_weigth = 5 \n",
    "dog_wiegth = 16\n",
    "\n",
    "if cat_z_score() > dog_z_score():\n",
    "    print(\"Le chat est plus éloigné de la moyenne de son groupe que le chient\")\n",
    "else:\n",
    "    print(\"Le chien est plus éloigné de la moyenne de son groupe que le chat\")"
   ]
  },
  {
   "cell_type": "code",
   "execution_count": null,
   "id": "67f3ed9f-ef6e-4c9b-a463-595cba84c805",
   "metadata": {},
   "outputs": [],
   "source": []
  }
 ],
 "metadata": {
  "kernelspec": {
   "display_name": "Python 3 (ipykernel)",
   "language": "python",
   "name": "python3"
  },
  "language_info": {
   "codemirror_mode": {
    "name": "ipython",
    "version": 3
   },
   "file_extension": ".py",
   "mimetype": "text/x-python",
   "name": "python",
   "nbconvert_exporter": "python",
   "pygments_lexer": "ipython3",
   "version": "3.11.9"
  }
 },
 "nbformat": 4,
 "nbformat_minor": 5
}
